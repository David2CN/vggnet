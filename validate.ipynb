{
 "cells": [
  {
   "cell_type": "code",
   "execution_count": 1,
   "id": "a6675287",
   "metadata": {},
   "outputs": [],
   "source": [
    "import tensorflow as tf\n",
    "import models"
   ]
  },
  {
   "cell_type": "code",
   "execution_count": 2,
   "id": "bbc6a941",
   "metadata": {},
   "outputs": [],
   "source": [
    "x_init = tf.random_normal_initializer()\n",
    "x = x_init((4, 224, 224, 3))"
   ]
  },
  {
   "cell_type": "code",
   "execution_count": 3,
   "id": "dd300c4b",
   "metadata": {},
   "outputs": [],
   "source": [
    "keras_vgg = tf.keras.applications.VGG16(weights=None)\n",
    "my_vgg = models.VGG16(1000)"
   ]
  },
  {
   "cell_type": "code",
   "execution_count": 8,
   "id": "7638ec63",
   "metadata": {},
   "outputs": [],
   "source": [
    "# call the models to initialize the weights\n",
    "_ = keras_vgg(x)\n",
    "_ = my_vgg(x)"
   ]
  },
  {
   "cell_type": "code",
   "execution_count": 5,
   "id": "5f158c92",
   "metadata": {},
   "outputs": [
    {
     "name": "stdout",
     "output_type": "stream",
     "text": [
      "Model: \"vgg16\"\n",
      "_________________________________________________________________\n",
      " Layer (type)                Output Shape              Param #   \n",
      "=================================================================\n",
      " input_1 (InputLayer)        [(None, 224, 224, 3)]     0         \n",
      "                                                                 \n",
      " block1_conv1 (Conv2D)       (None, 224, 224, 64)      1792      \n",
      "                                                                 \n",
      " block1_conv2 (Conv2D)       (None, 224, 224, 64)      36928     \n",
      "                                                                 \n",
      " block1_pool (MaxPooling2D)  (None, 112, 112, 64)      0         \n",
      "                                                                 \n",
      " block2_conv1 (Conv2D)       (None, 112, 112, 128)     73856     \n",
      "                                                                 \n",
      " block2_conv2 (Conv2D)       (None, 112, 112, 128)     147584    \n",
      "                                                                 \n",
      " block2_pool (MaxPooling2D)  (None, 56, 56, 128)       0         \n",
      "                                                                 \n",
      " block3_conv1 (Conv2D)       (None, 56, 56, 256)       295168    \n",
      "                                                                 \n",
      " block3_conv2 (Conv2D)       (None, 56, 56, 256)       590080    \n",
      "                                                                 \n",
      " block3_conv3 (Conv2D)       (None, 56, 56, 256)       590080    \n",
      "                                                                 \n",
      " block3_pool (MaxPooling2D)  (None, 28, 28, 256)       0         \n",
      "                                                                 \n",
      " block4_conv1 (Conv2D)       (None, 28, 28, 512)       1180160   \n",
      "                                                                 \n",
      " block4_conv2 (Conv2D)       (None, 28, 28, 512)       2359808   \n",
      "                                                                 \n",
      " block4_conv3 (Conv2D)       (None, 28, 28, 512)       2359808   \n",
      "                                                                 \n",
      " block4_pool (MaxPooling2D)  (None, 14, 14, 512)       0         \n",
      "                                                                 \n",
      " block5_conv1 (Conv2D)       (None, 14, 14, 512)       2359808   \n",
      "                                                                 \n",
      " block5_conv2 (Conv2D)       (None, 14, 14, 512)       2359808   \n",
      "                                                                 \n",
      " block5_conv3 (Conv2D)       (None, 14, 14, 512)       2359808   \n",
      "                                                                 \n",
      " block5_pool (MaxPooling2D)  (None, 7, 7, 512)         0         \n",
      "                                                                 \n",
      " flatten (Flatten)           (None, 25088)             0         \n",
      "                                                                 \n",
      " fc1 (Dense)                 (None, 4096)              102764544 \n",
      "                                                                 \n",
      " fc2 (Dense)                 (None, 4096)              16781312  \n",
      "                                                                 \n",
      " predictions (Dense)         (None, 1000)              4097000   \n",
      "                                                                 \n",
      "=================================================================\n",
      "Total params: 138,357,544\n",
      "Trainable params: 138,357,544\n",
      "Non-trainable params: 0\n",
      "_________________________________________________________________\n"
     ]
    }
   ],
   "source": [
    "keras_vgg.summary()"
   ]
  },
  {
   "cell_type": "code",
   "execution_count": 6,
   "id": "2d6f63b0",
   "metadata": {},
   "outputs": [
    {
     "name": "stdout",
     "output_type": "stream",
     "text": [
      "Model: \"vgg16\"\n",
      "_________________________________________________________________\n",
      " Layer (type)                Output Shape              Param #   \n",
      "=================================================================\n",
      " vgg_block (VGGBlock)        multiple                  38720     \n",
      "                                                                 \n",
      " vgg_block_1 (VGGBlock)      multiple                  221440    \n",
      "                                                                 \n",
      " vgg_block_2 (VGGBlock)      multiple                  1475328   \n",
      "                                                                 \n",
      " vgg_block_3 (VGGBlock)      multiple                  5899776   \n",
      "                                                                 \n",
      " vgg_block_4 (VGGBlock)      multiple                  7079424   \n",
      "                                                                 \n",
      " flatten (Flatten)           multiple                  0         \n",
      "                                                                 \n",
      " dense (Dense)               multiple                  102764544 \n",
      "                                                                 \n",
      " dense_1 (Dense)             multiple                  16781312  \n",
      "                                                                 \n",
      " dropout (Dropout)           multiple                  0         \n",
      "                                                                 \n",
      " dense_2 (Dense)             multiple                  4097000   \n",
      "                                                                 \n",
      "=================================================================\n",
      "Total params: 138,357,544\n",
      "Trainable params: 138,357,544\n",
      "Non-trainable params: 0\n",
      "_________________________________________________________________\n"
     ]
    }
   ],
   "source": [
    "my_vgg.summary()"
   ]
  },
  {
   "cell_type": "code",
   "execution_count": 7,
   "id": "f3ca7618",
   "metadata": {
    "scrolled": true
   },
   "outputs": [
    {
     "name": "stdout",
     "output_type": "stream",
     "text": [
      "sequential - (4, 224, 224, 64)\n",
      "pool1 - (4, 112, 112, 64)\n",
      "sequential_1 - (4, 112, 112, 128)\n",
      "pool2 - (4, 56, 56, 128)\n",
      "sequential_2 - (4, 56, 56, 256)\n",
      "pool3 - (4, 28, 28, 256)\n",
      "sequential_3 - (4, 28, 28, 512)\n",
      "pool4 - (4, 14, 14, 512)\n",
      "sequential_4 - (4, 14, 14, 512)\n",
      "pool5 - (4, 7, 7, 512)\n",
      "flatten - (4, 25088)\n",
      "dense - (4, 4096)\n",
      "dense_1 - (4, 4096)\n",
      "dropout - (4, 4096)\n",
      "dense_2 - (4, 1000)\n"
     ]
    }
   ],
   "source": [
    "out = x\n",
    "for layer in my_vgg.layers:\n",
    "    try:\n",
    "        for i in layer.layers:\n",
    "            out = i(out)\n",
    "            print(f\"{i.name} - {out.shape}\")\n",
    "    except:\n",
    "        out = layer(out)\n",
    "        print(f\"{layer.name} - {out.shape}\")"
   ]
  },
  {
   "cell_type": "code",
   "execution_count": null,
   "id": "45c07193",
   "metadata": {},
   "outputs": [],
   "source": []
  }
 ],
 "metadata": {
  "kernelspec": {
   "display_name": "Python 3 (ipykernel)",
   "language": "python",
   "name": "python3"
  },
  "language_info": {
   "codemirror_mode": {
    "name": "ipython",
    "version": 3
   },
   "file_extension": ".py",
   "mimetype": "text/x-python",
   "name": "python",
   "nbconvert_exporter": "python",
   "pygments_lexer": "ipython3",
   "version": "3.9.12"
  }
 },
 "nbformat": 4,
 "nbformat_minor": 5
}
